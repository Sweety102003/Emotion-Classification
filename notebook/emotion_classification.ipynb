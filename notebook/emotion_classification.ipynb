{
 "cells": [
  {
   "cell_type": "markdown",
   "id": "be54e950",
   "metadata": {},
   "source": [
    "# Emotion Classification from Speech\n",
    "\n",
    "## 1. Setup and Imports\n",
    "\n",
    "First, we'll import all the necessary libraries for our project. This includes libraries for data manipulation (`pandas`, `numpy`), audio processing (`librosa`), machine learning (`tensorflow`, `scikit-learn`), and plotting (`matplotlib`, `seaborn`)."
   ]
  },
  {
   "cell_type": "code",
   "execution_count": 16,
   "id": "176b200c",
   "metadata": {},
   "outputs": [
    {
     "name": "stderr",
     "output_type": "stream",
     "text": [
      "WARNING: All log messages before absl::InitializeLog() is called are written to STDERR\n",
      "E0000 00:00:1750783289.034577    5023 cuda_dnn.cc:8579] Unable to register cuDNN factory: Attempting to register factory for plugin cuDNN when one has already been registered\n",
      "E0000 00:00:1750783289.100465    5023 cuda_blas.cc:1407] Unable to register cuBLAS factory: Attempting to register factory for plugin cuBLAS when one has already been registered\n",
      "W0000 00:00:1750783289.454517    5023 computation_placer.cc:177] computation placer already registered. Please check linkage and avoid linking the same target more than once.\n",
      "W0000 00:00:1750783289.454570    5023 computation_placer.cc:177] computation placer already registered. Please check linkage and avoid linking the same target more than once.\n",
      "W0000 00:00:1750783289.454576    5023 computation_placer.cc:177] computation placer already registered. Please check linkage and avoid linking the same target more than once.\n",
      "W0000 00:00:1750783289.454582    5023 computation_placer.cc:177] computation placer already registered. Please check linkage and avoid linking the same target more than once.\n"
     ]
    }
   ],
   "source": [
    "import os\n",
    "os.environ['TF_CPP_MIN_LOG_LEVEL'] = '3'  # Suppress TensorFlow messages\n",
    "\n",
    "import warnings\n",
    "warnings.filterwarnings('ignore')  # Suppress Python warnings\n",
    "\n",
    "import tensorflow as tf\n",
    "tf.get_logger().setLevel('ERROR')  # Suppress TF logs in notebook\n",
    "\n",
    "# Rest of your imports\n",
    "import pandas as pd\n",
    "import numpy as np\n",
    "import librosa\n",
    "import matplotlib.pyplot as plt\n",
    "import seaborn as sns\n",
    "from tqdm import tqdm\n",
    "from sklearn.model_selection import train_test_split\n",
    "from sklearn.preprocessing import LabelEncoder, StandardScaler\n",
    "from sklearn.metrics import classification_report, confusion_matrix, accuracy_score, f1_score\n",
    "import joblib\n",
    "\n"
   ]
  },
  {
   "cell_type": "code",
   "execution_count": 17,
   "id": "0bbae694",
   "metadata": {},
   "outputs": [],
   "source": [
    "\n",
    "np.random.seed(42)\n",
    "tf.random.set_seed(42)\n",
    "\n",
    "DATA_PATH = '../data'\n",
    "MODEL_PATH = '../models'\n",
    "os.makedirs(MODEL_PATH, exist_ok=True)\n"
   ]
  },
  {
   "cell_type": "code",
   "execution_count": 19,
   "id": "3b89a515-4712-4d2a-8c2a-889ec8772515",
   "metadata": {},
   "outputs": [],
   "source": [
    "emotion_map = {\n",
    "    '01': 'neutral', '02': 'calm', '03': 'happy', '04': 'sad',\n",
    "    '05': 'angry', '06': 'fearful', '07': 'disgust', '08': 'surprised'\n",
    "}\n",
    "\n",
    "def parse_filename(filename):\n",
    "    parts = filename.replace('.wav', '').split('-')\n",
    "    if len(parts) >= 7:\n",
    "        return {\n",
    "            'filename': filename,\n",
    "            'emotion_code': parts[2],\n",
    "            'emotion': emotion_map.get(parts[2], 'unknown'),\n",
    "            'intensity': parts[3],\n",
    "            'statement': parts[4],\n",
    "            'repetition': parts[5],\n",
    "            'actor': parts[6]\n",
    "        }\n",
    "    return None\n"
   ]
  },
  {
   "cell_type": "code",
   "execution_count": 25,
   "id": "7496de12",
   "metadata": {},
   "outputs": [],
   "source": [
    "def extract_features(file_path, max_length=3):\n",
    "    try:\n",
    "        # Load audio\n",
    "        audio, sr = librosa.load(file_path, sr=22050, duration=max_length)\n",
    "        audio = np.pad(audio, (0, sr * max_length - len(audio)), 'constant') if len(audio) < sr * max_length else audio[:sr * max_length]\n",
    "\n",
    "        # Feature extraction\n",
    "        mfcc = librosa.feature.mfcc(y=audio, sr=sr, n_mfcc=13)\n",
    "        chroma = librosa.feature.chroma_stft(y=audio, sr=sr)\n",
    "        mel = librosa.feature.melspectrogram(y=audio, sr=sr)\n",
    "        contrast = librosa.feature.spectral_contrast(y=audio, sr=sr)\n",
    "        tonnetz = librosa.feature.tonnetz(y=audio, sr=sr)\n",
    "        centroid = librosa.feature.spectral_centroid(y=audio, sr=sr)\n",
    "        rolloff = librosa.feature.spectral_rolloff(y=audio, sr=sr)\n",
    "        zcr = librosa.feature.zero_crossing_rate(audio)\n",
    "        rms = librosa.feature.rms(y=audio)\n",
    "\n",
    "        # Ensure all are 1D arrays before concatenation\n",
    "        features = np.concatenate([\n",
    "            np.mean(mfcc, axis=1), np.std(mfcc, axis=1),\n",
    "            np.mean(chroma, axis=1), np.std(chroma, axis=1),\n",
    "            np.mean(mel[:20], axis=1), np.std(mel[:20], axis=1),  # mel is usually large, limit to first 20\n",
    "            np.mean(contrast, axis=1), np.std(contrast, axis=1),\n",
    "            np.mean(tonnetz, axis=1), np.std(tonnetz, axis=1),\n",
    "            [np.mean(centroid)], [np.mean(rolloff)], [np.mean(zcr)], [np.mean(rms)]\n",
    "        ])\n",
    "\n",
    "        return features\n",
    "\n",
    "    except Exception as e:\n",
    "        print(f\"Error processing {file_path}: {e}\")\n",
    "        return None\n"
   ]
  },
  {
   "cell_type": "code",
   "execution_count": 26,
   "id": "bbe44f51",
   "metadata": {},
   "outputs": [
    {
     "name": "stdout",
     "output_type": "stream",
     "text": [
      "emotion\n",
      "happy        192\n",
      "disgust      192\n",
      "calm         192\n",
      "fearful      192\n",
      "angry        192\n",
      "sad          192\n",
      "surprised    192\n",
      "neutral       96\n",
      "Name: count, dtype: int64\n"
     ]
    }
   ],
   "source": [
    "audio_files = []\n",
    "for actor_dir in os.listdir(DATA_PATH):\n",
    "    if actor_dir.startswith('Actor_'):\n",
    "        for file in os.listdir(os.path.join(DATA_PATH, actor_dir)):\n",
    "            if file.endswith('.wav'):\n",
    "                metadata = parse_filename(file)\n",
    "                if metadata:\n",
    "                    metadata['filepath'] = os.path.join(DATA_PATH, actor_dir, file)\n",
    "                    audio_files.append(metadata)\n",
    "\n",
    "df = pd.DataFrame(audio_files)\n",
    "print(df['emotion'].value_counts())\n"
   ]
  },
  {
   "cell_type": "code",
   "execution_count": 27,
   "id": "e28d48c1",
   "metadata": {},
   "outputs": [
    {
     "name": "stderr",
     "output_type": "stream",
     "text": [
      "100%|██████████| 1440/1440 [06:28<00:00,  3.71it/s]\n"
     ]
    }
   ],
   "source": [
    "from tqdm import tqdm\n",
    "features_list = []\n",
    "valid_indices = []\n",
    "for idx, row in tqdm(df.iterrows(), total=len(df)):\n",
    "    features = extract_features(row['filepath'])\n",
    "    if features is not None:\n",
    "        features_list.append(features)\n",
    "        valid_indices.append(idx)\n",
    "\n",
    "df_filtered = df.iloc[valid_indices].reset_index(drop=True)\n",
    "features_array = np.array(features_list)\n"
   ]
  },
  {
   "cell_type": "code",
   "execution_count": 29,
   "id": "135fe6b7",
   "metadata": {},
   "outputs": [],
   "source": [
    "label_encoder = LabelEncoder()\n",
    "labels = label_encoder.fit_transform(df_filtered['emotion'])\n",
    "\n",
    "X_train, X_temp, y_train, y_temp = train_test_split(\n",
    "    features_array, labels, test_size=0.3, random_state=42, stratify=labels)\n",
    "X_val, X_test, y_val, y_test = train_test_split(\n",
    "    X_temp, y_temp, test_size=0.5, random_state=42, stratify=y_temp)\n",
    "\n",
    "scaler = StandardScaler()\n",
    "X_train_scaled = scaler.fit_transform(X_train)\n",
    "X_val_scaled = scaler.transform(X_val)\n",
    "X_test_scaled = scaler.transform(X_test)\n"
   ]
  },
  {
   "cell_type": "code",
   "execution_count": 30,
   "id": "b924b921",
   "metadata": {},
   "outputs": [],
   "source": [
    "def create_model(input_shape, num_classes):\n",
    "    model = tf.keras.Sequential([\n",
    "        tf.keras.layers.Dense(512, activation='relu', input_shape=input_shape),\n",
    "        tf.keras.layers.BatchNormalization(), tf.keras.layers.Dropout(0.4),\n",
    "        tf.keras.layers.Dense(256, activation='relu'),\n",
    "        tf.keras.layers.BatchNormalization(), tf.keras.layers.Dropout(0.4),\n",
    "        tf.keras.layers.Dense(128, activation='relu'),\n",
    "        tf.keras.layers.BatchNormalization(), tf.keras.layers.Dropout(0.3),\n",
    "        tf.keras.layers.Dense(64, activation='relu'),\n",
    "        tf.keras.layers.BatchNormalization(), tf.keras.layers.Dropout(0.2),\n",
    "        tf.keras.layers.Dense(num_classes, activation='softmax')\n",
    "    ])\n",
    "    model.compile(optimizer=tf.keras.optimizers.Adam(0.001),\n",
    "                  loss='sparse_categorical_crossentropy',\n",
    "                  metrics=['accuracy'])\n",
    "    return model\n"
   ]
  },
  {
   "cell_type": "code",
   "execution_count": 31,
   "id": "c131ef93",
   "metadata": {},
   "outputs": [
    {
     "name": "stdout",
     "output_type": "stream",
     "text": [
      "Epoch 1/200\n",
      "\u001b[1m55/63\u001b[0m \u001b[32m━━━━━━━━━━━━━━━━━\u001b[0m\u001b[37m━━━\u001b[0m \u001b[1m0s\u001b[0m 6ms/step - accuracy: 0.1612 - loss: 2.7664"
     ]
    },
    {
     "name": "stderr",
     "output_type": "stream",
     "text": [
      "WARNING:absl:You are saving your model as an HDF5 file via `model.save()` or `keras.saving.save_model(model)`. This file format is considered legacy. We recommend using instead the native Keras format, e.g. `model.save('my_model.keras')` or `keras.saving.save_model(model, 'my_model.keras')`. \n"
     ]
    },
    {
     "name": "stdout",
     "output_type": "stream",
     "text": [
      "\u001b[1m63/63\u001b[0m \u001b[32m━━━━━━━━━━━━━━━━━━━━\u001b[0m\u001b[37m\u001b[0m \u001b[1m4s\u001b[0m 13ms/step - accuracy: 0.1638 - loss: 2.7473 - val_accuracy: 0.2824 - val_loss: 1.8806 - learning_rate: 0.0010\n",
      "Epoch 2/200\n",
      "\u001b[1m62/63\u001b[0m \u001b[32m━━━━━━━━━━━━━━━━━━━\u001b[0m\u001b[37m━\u001b[0m \u001b[1m0s\u001b[0m 8ms/step - accuracy: 0.2372 - loss: 2.1186"
     ]
    },
    {
     "name": "stderr",
     "output_type": "stream",
     "text": [
      "WARNING:absl:You are saving your model as an HDF5 file via `model.save()` or `keras.saving.save_model(model)`. This file format is considered legacy. We recommend using instead the native Keras format, e.g. `model.save('my_model.keras')` or `keras.saving.save_model(model, 'my_model.keras')`. \n"
     ]
    },
    {
     "name": "stdout",
     "output_type": "stream",
     "text": [
      "\u001b[1m63/63\u001b[0m \u001b[32m━━━━━━━━━━━━━━━━━━━━\u001b[0m\u001b[37m\u001b[0m \u001b[1m1s\u001b[0m 11ms/step - accuracy: 0.2383 - loss: 2.1155 - val_accuracy: 0.3704 - val_loss: 1.6797 - learning_rate: 0.0010\n",
      "Epoch 3/200\n",
      "\u001b[1m57/63\u001b[0m \u001b[32m━━━━━━━━━━━━━━━━━━\u001b[0m\u001b[37m━━\u001b[0m \u001b[1m0s\u001b[0m 6ms/step - accuracy: 0.3485 - loss: 1.8201"
     ]
    },
    {
     "name": "stderr",
     "output_type": "stream",
     "text": [
      "WARNING:absl:You are saving your model as an HDF5 file via `model.save()` or `keras.saving.save_model(model)`. This file format is considered legacy. We recommend using instead the native Keras format, e.g. `model.save('my_model.keras')` or `keras.saving.save_model(model, 'my_model.keras')`. \n"
     ]
    },
    {
     "name": "stdout",
     "output_type": "stream",
     "text": [
      "\u001b[1m63/63\u001b[0m \u001b[32m━━━━━━━━━━━━━━━━━━━━\u001b[0m\u001b[37m\u001b[0m \u001b[1m1s\u001b[0m 8ms/step - accuracy: 0.3481 - loss: 1.8201 - val_accuracy: 0.4444 - val_loss: 1.5196 - learning_rate: 0.0010\n",
      "Epoch 4/200\n",
      "\u001b[1m62/63\u001b[0m \u001b[32m━━━━━━━━━━━━━━━━━━━\u001b[0m\u001b[37m━\u001b[0m \u001b[1m0s\u001b[0m 6ms/step - accuracy: 0.3617 - loss: 1.7229"
     ]
    },
    {
     "name": "stderr",
     "output_type": "stream",
     "text": [
      "WARNING:absl:You are saving your model as an HDF5 file via `model.save()` or `keras.saving.save_model(model)`. This file format is considered legacy. We recommend using instead the native Keras format, e.g. `model.save('my_model.keras')` or `keras.saving.save_model(model, 'my_model.keras')`. \n"
     ]
    },
    {
     "name": "stdout",
     "output_type": "stream",
     "text": [
      "\u001b[1m63/63\u001b[0m \u001b[32m━━━━━━━━━━━━━━━━━━━━\u001b[0m\u001b[37m\u001b[0m \u001b[1m1s\u001b[0m 9ms/step - accuracy: 0.3622 - loss: 1.7212 - val_accuracy: 0.4676 - val_loss: 1.4544 - learning_rate: 0.0010\n",
      "Epoch 5/200\n",
      "\u001b[1m63/63\u001b[0m \u001b[32m━━━━━━━━━━━━━━━━━━━━\u001b[0m\u001b[37m\u001b[0m \u001b[1m0s\u001b[0m 7ms/step - accuracy: 0.4212 - loss: 1.5558 - val_accuracy: 0.4676 - val_loss: 1.4005 - learning_rate: 0.0010\n",
      "Epoch 6/200\n",
      "\u001b[1m57/63\u001b[0m \u001b[32m━━━━━━━━━━━━━━━━━━\u001b[0m\u001b[37m━━\u001b[0m \u001b[1m0s\u001b[0m 6ms/step - accuracy: 0.4859 - loss: 1.4451"
     ]
    },
    {
     "name": "stderr",
     "output_type": "stream",
     "text": [
      "WARNING:absl:You are saving your model as an HDF5 file via `model.save()` or `keras.saving.save_model(model)`. This file format is considered legacy. We recommend using instead the native Keras format, e.g. `model.save('my_model.keras')` or `keras.saving.save_model(model, 'my_model.keras')`. \n"
     ]
    },
    {
     "name": "stdout",
     "output_type": "stream",
     "text": [
      "\u001b[1m63/63\u001b[0m \u001b[32m━━━━━━━━━━━━━━━━━━━━\u001b[0m\u001b[37m\u001b[0m \u001b[1m1s\u001b[0m 9ms/step - accuracy: 0.4863 - loss: 1.4444 - val_accuracy: 0.5046 - val_loss: 1.3837 - learning_rate: 0.0010\n",
      "Epoch 7/200\n",
      "\u001b[1m57/63\u001b[0m \u001b[32m━━━━━━━━━━━━━━━━━━\u001b[0m\u001b[37m━━\u001b[0m \u001b[1m0s\u001b[0m 6ms/step - accuracy: 0.4931 - loss: 1.3508"
     ]
    },
    {
     "name": "stderr",
     "output_type": "stream",
     "text": [
      "WARNING:absl:You are saving your model as an HDF5 file via `model.save()` or `keras.saving.save_model(model)`. This file format is considered legacy. We recommend using instead the native Keras format, e.g. `model.save('my_model.keras')` or `keras.saving.save_model(model, 'my_model.keras')`. \n"
     ]
    },
    {
     "name": "stdout",
     "output_type": "stream",
     "text": [
      "\u001b[1m63/63\u001b[0m \u001b[32m━━━━━━━━━━━━━━━━━━━━\u001b[0m\u001b[37m\u001b[0m \u001b[1m1s\u001b[0m 8ms/step - accuracy: 0.4943 - loss: 1.3476 - val_accuracy: 0.5278 - val_loss: 1.3094 - learning_rate: 0.0010\n",
      "Epoch 8/200\n",
      "\u001b[1m62/63\u001b[0m \u001b[32m━━━━━━━━━━━━━━━━━━━\u001b[0m\u001b[37m━\u001b[0m \u001b[1m0s\u001b[0m 6ms/step - accuracy: 0.5323 - loss: 1.2752"
     ]
    },
    {
     "name": "stderr",
     "output_type": "stream",
     "text": [
      "WARNING:absl:You are saving your model as an HDF5 file via `model.save()` or `keras.saving.save_model(model)`. This file format is considered legacy. We recommend using instead the native Keras format, e.g. `model.save('my_model.keras')` or `keras.saving.save_model(model, 'my_model.keras')`. \n"
     ]
    },
    {
     "name": "stdout",
     "output_type": "stream",
     "text": [
      "\u001b[1m63/63\u001b[0m \u001b[32m━━━━━━━━━━━━━━━━━━━━\u001b[0m\u001b[37m\u001b[0m \u001b[1m1s\u001b[0m 9ms/step - accuracy: 0.5322 - loss: 1.2754 - val_accuracy: 0.5324 - val_loss: 1.2790 - learning_rate: 0.0010\n",
      "Epoch 9/200\n",
      "\u001b[1m60/63\u001b[0m \u001b[32m━━━━━━━━━━━━━━━━━━━\u001b[0m\u001b[37m━\u001b[0m \u001b[1m0s\u001b[0m 6ms/step - accuracy: 0.5695 - loss: 1.2005"
     ]
    },
    {
     "name": "stderr",
     "output_type": "stream",
     "text": [
      "WARNING:absl:You are saving your model as an HDF5 file via `model.save()` or `keras.saving.save_model(model)`. This file format is considered legacy. We recommend using instead the native Keras format, e.g. `model.save('my_model.keras')` or `keras.saving.save_model(model, 'my_model.keras')`. \n"
     ]
    },
    {
     "name": "stdout",
     "output_type": "stream",
     "text": [
      "\u001b[1m63/63\u001b[0m \u001b[32m━━━━━━━━━━━━━━━━━━━━\u001b[0m\u001b[37m\u001b[0m \u001b[1m1s\u001b[0m 9ms/step - accuracy: 0.5699 - loss: 1.2004 - val_accuracy: 0.5509 - val_loss: 1.3267 - learning_rate: 0.0010\n",
      "Epoch 10/200\n",
      "\u001b[1m63/63\u001b[0m \u001b[32m━━━━━━━━━━━━━━━━━━━━\u001b[0m\u001b[37m\u001b[0m \u001b[1m1s\u001b[0m 9ms/step - accuracy: 0.5829 - loss: 1.1829 - val_accuracy: 0.5231 - val_loss: 1.2706 - learning_rate: 0.0010\n",
      "Epoch 11/200\n",
      "\u001b[1m63/63\u001b[0m \u001b[32m━━━━━━━━━━━━━━━━━━━━\u001b[0m\u001b[37m\u001b[0m \u001b[1m0s\u001b[0m 7ms/step - accuracy: 0.6246 - loss: 1.0738 - val_accuracy: 0.5370 - val_loss: 1.2471 - learning_rate: 0.0010\n",
      "Epoch 12/200\n",
      "\u001b[1m63/63\u001b[0m \u001b[32m━━━━━━━━━━━━━━━━━━━━\u001b[0m\u001b[37m\u001b[0m \u001b[1m1s\u001b[0m 8ms/step - accuracy: 0.6173 - loss: 1.0416 - val_accuracy: 0.5463 - val_loss: 1.1994 - learning_rate: 0.0010\n",
      "Epoch 13/200\n",
      "\u001b[1m59/63\u001b[0m \u001b[32m━━━━━━━━━━━━━━━━━━\u001b[0m\u001b[37m━━\u001b[0m \u001b[1m0s\u001b[0m 6ms/step - accuracy: 0.6337 - loss: 1.0060"
     ]
    },
    {
     "name": "stderr",
     "output_type": "stream",
     "text": [
      "WARNING:absl:You are saving your model as an HDF5 file via `model.save()` or `keras.saving.save_model(model)`. This file format is considered legacy. We recommend using instead the native Keras format, e.g. `model.save('my_model.keras')` or `keras.saving.save_model(model, 'my_model.keras')`. \n"
     ]
    },
    {
     "name": "stdout",
     "output_type": "stream",
     "text": [
      "\u001b[1m63/63\u001b[0m \u001b[32m━━━━━━━━━━━━━━━━━━━━\u001b[0m\u001b[37m\u001b[0m \u001b[1m1s\u001b[0m 10ms/step - accuracy: 0.6334 - loss: 1.0052 - val_accuracy: 0.5602 - val_loss: 1.1414 - learning_rate: 0.0010\n",
      "Epoch 14/200\n",
      "\u001b[1m58/63\u001b[0m \u001b[32m━━━━━━━━━━━━━━━━━━\u001b[0m\u001b[37m━━\u001b[0m \u001b[1m0s\u001b[0m 6ms/step - accuracy: 0.6809 - loss: 0.8995"
     ]
    },
    {
     "name": "stderr",
     "output_type": "stream",
     "text": [
      "WARNING:absl:You are saving your model as an HDF5 file via `model.save()` or `keras.saving.save_model(model)`. This file format is considered legacy. We recommend using instead the native Keras format, e.g. `model.save('my_model.keras')` or `keras.saving.save_model(model, 'my_model.keras')`. \n"
     ]
    },
    {
     "name": "stdout",
     "output_type": "stream",
     "text": [
      "\u001b[1m63/63\u001b[0m \u001b[32m━━━━━━━━━━━━━━━━━━━━\u001b[0m\u001b[37m\u001b[0m \u001b[1m1s\u001b[0m 9ms/step - accuracy: 0.6793 - loss: 0.8995 - val_accuracy: 0.5694 - val_loss: 1.1448 - learning_rate: 0.0010\n",
      "Epoch 15/200\n",
      "\u001b[1m63/63\u001b[0m \u001b[32m━━━━━━━━━━━━━━━━━━━━\u001b[0m\u001b[37m\u001b[0m \u001b[1m0s\u001b[0m 7ms/step - accuracy: 0.6891 - loss: 0.8646 - val_accuracy: 0.5648 - val_loss: 1.1463 - learning_rate: 0.0010\n",
      "Epoch 16/200\n",
      "\u001b[1m63/63\u001b[0m \u001b[32m━━━━━━━━━━━━━━━━━━━━\u001b[0m\u001b[37m\u001b[0m \u001b[1m1s\u001b[0m 8ms/step - accuracy: 0.7406 - loss: 0.7785 - val_accuracy: 0.5694 - val_loss: 1.1100 - learning_rate: 0.0010\n",
      "Epoch 17/200\n",
      "\u001b[1m56/63\u001b[0m \u001b[32m━━━━━━━━━━━━━━━━━\u001b[0m\u001b[37m━━━\u001b[0m \u001b[1m0s\u001b[0m 6ms/step - accuracy: 0.7810 - loss: 0.6909"
     ]
    },
    {
     "name": "stderr",
     "output_type": "stream",
     "text": [
      "WARNING:absl:You are saving your model as an HDF5 file via `model.save()` or `keras.saving.save_model(model)`. This file format is considered legacy. We recommend using instead the native Keras format, e.g. `model.save('my_model.keras')` or `keras.saving.save_model(model, 'my_model.keras')`. \n"
     ]
    },
    {
     "name": "stdout",
     "output_type": "stream",
     "text": [
      "\u001b[1m63/63\u001b[0m \u001b[32m━━━━━━━━━━━━━━━━━━━━\u001b[0m\u001b[37m\u001b[0m \u001b[1m1s\u001b[0m 9ms/step - accuracy: 0.7783 - loss: 0.6963 - val_accuracy: 0.5787 - val_loss: 1.0922 - learning_rate: 0.0010\n",
      "Epoch 18/200\n",
      "\u001b[1m56/63\u001b[0m \u001b[32m━━━━━━━━━━━━━━━━━\u001b[0m\u001b[37m━━━\u001b[0m \u001b[1m0s\u001b[0m 6ms/step - accuracy: 0.7223 - loss: 0.7266"
     ]
    },
    {
     "name": "stderr",
     "output_type": "stream",
     "text": [
      "WARNING:absl:You are saving your model as an HDF5 file via `model.save()` or `keras.saving.save_model(model)`. This file format is considered legacy. We recommend using instead the native Keras format, e.g. `model.save('my_model.keras')` or `keras.saving.save_model(model, 'my_model.keras')`. \n"
     ]
    },
    {
     "name": "stdout",
     "output_type": "stream",
     "text": [
      "\u001b[1m63/63\u001b[0m \u001b[32m━━━━━━━━━━━━━━━━━━━━\u001b[0m\u001b[37m\u001b[0m \u001b[1m1s\u001b[0m 9ms/step - accuracy: 0.7238 - loss: 0.7259 - val_accuracy: 0.5926 - val_loss: 1.1416 - learning_rate: 0.0010\n",
      "Epoch 19/200\n",
      "\u001b[1m57/63\u001b[0m \u001b[32m━━━━━━━━━━━━━━━━━━\u001b[0m\u001b[37m━━\u001b[0m \u001b[1m0s\u001b[0m 6ms/step - accuracy: 0.7727 - loss: 0.6392"
     ]
    },
    {
     "name": "stderr",
     "output_type": "stream",
     "text": [
      "WARNING:absl:You are saving your model as an HDF5 file via `model.save()` or `keras.saving.save_model(model)`. This file format is considered legacy. We recommend using instead the native Keras format, e.g. `model.save('my_model.keras')` or `keras.saving.save_model(model, 'my_model.keras')`. \n"
     ]
    },
    {
     "name": "stdout",
     "output_type": "stream",
     "text": [
      "\u001b[1m63/63\u001b[0m \u001b[32m━━━━━━━━━━━━━━━━━━━━\u001b[0m\u001b[37m\u001b[0m \u001b[1m1s\u001b[0m 8ms/step - accuracy: 0.7726 - loss: 0.6416 - val_accuracy: 0.6019 - val_loss: 1.1085 - learning_rate: 0.0010\n",
      "Epoch 20/200\n",
      "\u001b[1m63/63\u001b[0m \u001b[32m━━━━━━━━━━━━━━━━━━━━\u001b[0m\u001b[37m\u001b[0m \u001b[1m1s\u001b[0m 9ms/step - accuracy: 0.7991 - loss: 0.6133 - val_accuracy: 0.5648 - val_loss: 1.1324 - learning_rate: 0.0010\n",
      "Epoch 21/200\n",
      "\u001b[1m63/63\u001b[0m \u001b[32m━━━━━━━━━━━━━━━━━━━━\u001b[0m\u001b[37m\u001b[0m \u001b[1m0s\u001b[0m 7ms/step - accuracy: 0.7957 - loss: 0.5617 - val_accuracy: 0.5602 - val_loss: 1.1871 - learning_rate: 0.0010\n",
      "Epoch 22/200\n",
      "\u001b[1m63/63\u001b[0m \u001b[32m━━━━━━━━━━━━━━━━━━━━\u001b[0m\u001b[37m\u001b[0m \u001b[1m0s\u001b[0m 8ms/step - accuracy: 0.7795 - loss: 0.6331 - val_accuracy: 0.5926 - val_loss: 1.2075 - learning_rate: 0.0010\n",
      "Epoch 23/200\n",
      "\u001b[1m63/63\u001b[0m \u001b[32m━━━━━━━━━━━━━━━━━━━━\u001b[0m\u001b[37m\u001b[0m \u001b[1m0s\u001b[0m 7ms/step - accuracy: 0.8324 - loss: 0.4989 - val_accuracy: 0.5926 - val_loss: 1.1777 - learning_rate: 0.0010\n",
      "Epoch 24/200\n",
      "\u001b[1m63/63\u001b[0m \u001b[32m━━━━━━━━━━━━━━━━━━━━\u001b[0m\u001b[37m\u001b[0m \u001b[1m0s\u001b[0m 7ms/step - accuracy: 0.8472 - loss: 0.4564 - val_accuracy: 0.6019 - val_loss: 1.1847 - learning_rate: 0.0010\n",
      "Epoch 25/200\n",
      "\u001b[1m63/63\u001b[0m \u001b[32m━━━━━━━━━━━━━━━━━━━━\u001b[0m\u001b[37m\u001b[0m \u001b[1m0s\u001b[0m 7ms/step - accuracy: 0.8245 - loss: 0.4882 - val_accuracy: 0.5880 - val_loss: 1.2671 - learning_rate: 0.0010\n",
      "Epoch 26/200\n",
      "\u001b[1m63/63\u001b[0m \u001b[32m━━━━━━━━━━━━━━━━━━━━\u001b[0m\u001b[37m\u001b[0m \u001b[1m0s\u001b[0m 7ms/step - accuracy: 0.8344 - loss: 0.4578 - val_accuracy: 0.5926 - val_loss: 1.2786 - learning_rate: 0.0010\n",
      "Epoch 27/200\n",
      "\u001b[1m63/63\u001b[0m \u001b[32m━━━━━━━━━━━━━━━━━━━━\u001b[0m\u001b[37m\u001b[0m \u001b[1m0s\u001b[0m 7ms/step - accuracy: 0.8446 - loss: 0.4440 - val_accuracy: 0.5972 - val_loss: 1.2526 - learning_rate: 0.0010\n",
      "Epoch 28/200\n",
      "\u001b[1m55/63\u001b[0m \u001b[32m━━━━━━━━━━━━━━━━━\u001b[0m\u001b[37m━━━\u001b[0m \u001b[1m0s\u001b[0m 6ms/step - accuracy: 0.8391 - loss: 0.4260"
     ]
    },
    {
     "name": "stderr",
     "output_type": "stream",
     "text": [
      "WARNING:absl:You are saving your model as an HDF5 file via `model.save()` or `keras.saving.save_model(model)`. This file format is considered legacy. We recommend using instead the native Keras format, e.g. `model.save('my_model.keras')` or `keras.saving.save_model(model, 'my_model.keras')`. \n"
     ]
    },
    {
     "name": "stdout",
     "output_type": "stream",
     "text": [
      "\u001b[1m63/63\u001b[0m \u001b[32m━━━━━━━━━━━━━━━━━━━━\u001b[0m\u001b[37m\u001b[0m \u001b[1m1s\u001b[0m 9ms/step - accuracy: 0.8405 - loss: 0.4249 - val_accuracy: 0.6111 - val_loss: 1.2795 - learning_rate: 5.0000e-04\n",
      "Epoch 29/200\n",
      "\u001b[1m63/63\u001b[0m \u001b[32m━━━━━━━━━━━━━━━━━━━━\u001b[0m\u001b[37m\u001b[0m \u001b[1m0s\u001b[0m 7ms/step - accuracy: 0.8666 - loss: 0.3977 - val_accuracy: 0.6065 - val_loss: 1.2870 - learning_rate: 5.0000e-04\n",
      "Epoch 30/200\n",
      "\u001b[1m59/63\u001b[0m \u001b[32m━━━━━━━━━━━━━━━━━━\u001b[0m\u001b[37m━━\u001b[0m \u001b[1m0s\u001b[0m 6ms/step - accuracy: 0.8909 - loss: 0.3331"
     ]
    },
    {
     "name": "stderr",
     "output_type": "stream",
     "text": [
      "WARNING:absl:You are saving your model as an HDF5 file via `model.save()` or `keras.saving.save_model(model)`. This file format is considered legacy. We recommend using instead the native Keras format, e.g. `model.save('my_model.keras')` or `keras.saving.save_model(model, 'my_model.keras')`. \n"
     ]
    },
    {
     "name": "stdout",
     "output_type": "stream",
     "text": [
      "\u001b[1m63/63\u001b[0m \u001b[32m━━━━━━━━━━━━━━━━━━━━\u001b[0m\u001b[37m\u001b[0m \u001b[1m1s\u001b[0m 8ms/step - accuracy: 0.8911 - loss: 0.3324 - val_accuracy: 0.6389 - val_loss: 1.1945 - learning_rate: 5.0000e-04\n",
      "Epoch 31/200\n",
      "\u001b[1m63/63\u001b[0m \u001b[32m━━━━━━━━━━━━━━━━━━━━\u001b[0m\u001b[37m\u001b[0m \u001b[1m0s\u001b[0m 7ms/step - accuracy: 0.8838 - loss: 0.3372 - val_accuracy: 0.6296 - val_loss: 1.2067 - learning_rate: 5.0000e-04\n",
      "Epoch 32/200\n",
      "\u001b[1m63/63\u001b[0m \u001b[32m━━━━━━━━━━━━━━━━━━━━\u001b[0m\u001b[37m\u001b[0m \u001b[1m0s\u001b[0m 7ms/step - accuracy: 0.9249 - loss: 0.2625 - val_accuracy: 0.6019 - val_loss: 1.2348 - learning_rate: 5.0000e-04\n",
      "Epoch 33/200\n",
      "\u001b[1m63/63\u001b[0m \u001b[32m━━━━━━━━━━━━━━━━━━━━\u001b[0m\u001b[37m\u001b[0m \u001b[1m1s\u001b[0m 10ms/step - accuracy: 0.9185 - loss: 0.2536 - val_accuracy: 0.6019 - val_loss: 1.2619 - learning_rate: 5.0000e-04\n",
      "Epoch 34/200\n",
      "\u001b[1m63/63\u001b[0m \u001b[32m━━━━━━━━━━━━━━━━━━━━\u001b[0m\u001b[37m\u001b[0m \u001b[1m0s\u001b[0m 7ms/step - accuracy: 0.9274 - loss: 0.2588 - val_accuracy: 0.6157 - val_loss: 1.2803 - learning_rate: 5.0000e-04\n",
      "Epoch 35/200\n",
      "\u001b[1m63/63\u001b[0m \u001b[32m━━━━━━━━━━━━━━━━━━━━\u001b[0m\u001b[37m\u001b[0m \u001b[1m1s\u001b[0m 8ms/step - accuracy: 0.9029 - loss: 0.2732 - val_accuracy: 0.6065 - val_loss: 1.2714 - learning_rate: 5.0000e-04\n",
      "Epoch 36/200\n",
      "\u001b[1m63/63\u001b[0m \u001b[32m━━━━━━━━━━━━━━━━━━━━\u001b[0m\u001b[37m\u001b[0m \u001b[1m0s\u001b[0m 7ms/step - accuracy: 0.9335 - loss: 0.2136 - val_accuracy: 0.6157 - val_loss: 1.3386 - learning_rate: 5.0000e-04\n",
      "Epoch 37/200\n",
      "\u001b[1m63/63\u001b[0m \u001b[32m━━━━━━━━━━━━━━━━━━━━\u001b[0m\u001b[37m\u001b[0m \u001b[1m0s\u001b[0m 7ms/step - accuracy: 0.9259 - loss: 0.2228 - val_accuracy: 0.6157 - val_loss: 1.3358 - learning_rate: 5.0000e-04\n",
      "Epoch 38/200\n",
      "\u001b[1m63/63\u001b[0m \u001b[32m━━━━━━━━━━━━━━━━━━━━\u001b[0m\u001b[37m\u001b[0m \u001b[1m0s\u001b[0m 7ms/step - accuracy: 0.9232 - loss: 0.2171 - val_accuracy: 0.6157 - val_loss: 1.3252 - learning_rate: 2.5000e-04\n",
      "Epoch 39/200\n",
      "\u001b[1m63/63\u001b[0m \u001b[32m━━━━━━━━━━━━━━━━━━━━\u001b[0m\u001b[37m\u001b[0m \u001b[1m0s\u001b[0m 7ms/step - accuracy: 0.9299 - loss: 0.2010 - val_accuracy: 0.6019 - val_loss: 1.3218 - learning_rate: 2.5000e-04\n",
      "Epoch 40/200\n",
      "\u001b[1m63/63\u001b[0m \u001b[32m━━━━━━━━━━━━━━━━━━━━\u001b[0m\u001b[37m\u001b[0m \u001b[1m0s\u001b[0m 7ms/step - accuracy: 0.9213 - loss: 0.2234 - val_accuracy: 0.6157 - val_loss: 1.3150 - learning_rate: 2.5000e-04\n",
      "Epoch 41/200\n",
      "\u001b[1m63/63\u001b[0m \u001b[32m━━━━━━━━━━━━━━━━━━━━\u001b[0m\u001b[37m\u001b[0m \u001b[1m0s\u001b[0m 7ms/step - accuracy: 0.9491 - loss: 0.1584 - val_accuracy: 0.6296 - val_loss: 1.2941 - learning_rate: 2.5000e-04\n",
      "Epoch 42/200\n",
      "\u001b[1m63/63\u001b[0m \u001b[32m━━━━━━━━━━━━━━━━━━━━\u001b[0m\u001b[37m\u001b[0m \u001b[1m1s\u001b[0m 9ms/step - accuracy: 0.9234 - loss: 0.2284 - val_accuracy: 0.6204 - val_loss: 1.2852 - learning_rate: 2.5000e-04\n",
      "Epoch 43/200\n",
      "\u001b[1m63/63\u001b[0m \u001b[32m━━━━━━━━━━━━━━━━━━━━\u001b[0m\u001b[37m\u001b[0m \u001b[1m1s\u001b[0m 9ms/step - accuracy: 0.9349 - loss: 0.1844 - val_accuracy: 0.6389 - val_loss: 1.3112 - learning_rate: 2.5000e-04\n",
      "Epoch 44/200\n",
      "\u001b[1m63/63\u001b[0m \u001b[32m━━━━━━━━━━━━━━━━━━━━\u001b[0m\u001b[37m\u001b[0m \u001b[1m1s\u001b[0m 9ms/step - accuracy: 0.9268 - loss: 0.2012 - val_accuracy: 0.6389 - val_loss: 1.3091 - learning_rate: 2.5000e-04\n",
      "Epoch 45/200\n",
      "\u001b[1m63/63\u001b[0m \u001b[32m━━━━━━━━━━━━━━━━━━━━\u001b[0m\u001b[37m\u001b[0m \u001b[1m1s\u001b[0m 8ms/step - accuracy: 0.9548 - loss: 0.1641 - val_accuracy: 0.6296 - val_loss: 1.3523 - learning_rate: 2.5000e-04\n",
      "Epoch 46/200\n",
      "\u001b[1m63/63\u001b[0m \u001b[32m━━━━━━━━━━━━━━━━━━━━\u001b[0m\u001b[37m\u001b[0m \u001b[1m1s\u001b[0m 10ms/step - accuracy: 0.9587 - loss: 0.1541 - val_accuracy: 0.6204 - val_loss: 1.3903 - learning_rate: 2.5000e-04\n",
      "Epoch 47/200\n",
      "\u001b[1m63/63\u001b[0m \u001b[32m━━━━━━━━━━━━━━━━━━━━\u001b[0m\u001b[37m\u001b[0m \u001b[1m0s\u001b[0m 7ms/step - accuracy: 0.9588 - loss: 0.1381 - val_accuracy: 0.6157 - val_loss: 1.3372 - learning_rate: 2.5000e-04\n",
      "Epoch 48/200\n",
      "\u001b[1m63/63\u001b[0m \u001b[32m━━━━━━━━━━━━━━━━━━━━\u001b[0m\u001b[37m\u001b[0m \u001b[1m1s\u001b[0m 8ms/step - accuracy: 0.9634 - loss: 0.1324 - val_accuracy: 0.6157 - val_loss: 1.3493 - learning_rate: 1.2500e-04\n",
      "Epoch 49/200\n",
      "\u001b[1m63/63\u001b[0m \u001b[32m━━━━━━━━━━━━━━━━━━━━\u001b[0m\u001b[37m\u001b[0m \u001b[1m0s\u001b[0m 7ms/step - accuracy: 0.9628 - loss: 0.1412 - val_accuracy: 0.6204 - val_loss: 1.3689 - learning_rate: 1.2500e-04\n",
      "Epoch 50/200\n",
      "\u001b[1m63/63\u001b[0m \u001b[32m━━━━━━━━━━━━━━━━━━━━\u001b[0m\u001b[37m\u001b[0m \u001b[1m0s\u001b[0m 8ms/step - accuracy: 0.9516 - loss: 0.1399 - val_accuracy: 0.6157 - val_loss: 1.3707 - learning_rate: 1.2500e-04\n",
      "Epoch 51/200\n",
      "\u001b[1m63/63\u001b[0m \u001b[32m━━━━━━━━━━━━━━━━━━━━\u001b[0m\u001b[37m\u001b[0m \u001b[1m1s\u001b[0m 8ms/step - accuracy: 0.9520 - loss: 0.1681 - val_accuracy: 0.6157 - val_loss: 1.3732 - learning_rate: 1.2500e-04\n",
      "Epoch 52/200\n",
      "\u001b[1m63/63\u001b[0m \u001b[32m━━━━━━━━━━━━━━━━━━━━\u001b[0m\u001b[37m\u001b[0m \u001b[1m1s\u001b[0m 8ms/step - accuracy: 0.9448 - loss: 0.1784 - val_accuracy: 0.6250 - val_loss: 1.3556 - learning_rate: 1.2500e-04\n",
      "Epoch 53/200\n",
      "\u001b[1m63/63\u001b[0m \u001b[32m━━━━━━━━━━━━━━━━━━━━\u001b[0m\u001b[37m\u001b[0m \u001b[1m0s\u001b[0m 7ms/step - accuracy: 0.9631 - loss: 0.1316 - val_accuracy: 0.6204 - val_loss: 1.3821 - learning_rate: 1.2500e-04\n",
      "Epoch 54/200\n",
      "\u001b[1m63/63\u001b[0m \u001b[32m━━━━━━━━━━━━━━━━━━━━\u001b[0m\u001b[37m\u001b[0m \u001b[1m1s\u001b[0m 8ms/step - accuracy: 0.9571 - loss: 0.1483 - val_accuracy: 0.6157 - val_loss: 1.3998 - learning_rate: 1.2500e-04\n",
      "Epoch 55/200\n",
      "\u001b[1m63/63\u001b[0m \u001b[32m━━━━━━━━━━━━━━━━━━━━\u001b[0m\u001b[37m\u001b[0m \u001b[1m0s\u001b[0m 7ms/step - accuracy: 0.9666 - loss: 0.1269 - val_accuracy: 0.6157 - val_loss: 1.3809 - learning_rate: 1.2500e-04\n"
     ]
    }
   ],
   "source": [
    "model = create_model((X_train_scaled.shape[1],), len(label_encoder.classes_))\n",
    "\n",
    "callbacks = [\n",
    "    tf.keras.callbacks.EarlyStopping(monitor='val_accuracy', patience=25, restore_best_weights=True),\n",
    "    tf.keras.callbacks.ReduceLROnPlateau(monitor='val_loss', factor=0.5, patience=10, min_lr=1e-7),\n",
    "    tf.keras.callbacks.ModelCheckpoint(f'{MODEL_PATH}/final_emotion_model.h5', monitor='val_accuracy', save_best_only=True)\n",
    "]\n",
    "\n",
    "history = model.fit(X_train_scaled, y_train,\n",
    "                    validation_data=(X_val_scaled, y_val),\n",
    "                    epochs=200,\n",
    "                    batch_size=16,\n",
    "                    callbacks=callbacks)\n"
   ]
  },
  {
   "cell_type": "code",
   "execution_count": 32,
   "id": "360db12d",
   "metadata": {},
   "outputs": [
    {
     "name": "stderr",
     "output_type": "stream",
     "text": [
      "WARNING:absl:Compiled the loaded model, but the compiled metrics have yet to be built. `model.compile_metrics` will be empty until you train or evaluate the model.\n"
     ]
    },
    {
     "name": "stdout",
     "output_type": "stream",
     "text": [
      "\u001b[1m7/7\u001b[0m \u001b[32m━━━━━━━━━━━━━━━━━━━━\u001b[0m\u001b[37m\u001b[0m \u001b[1m0s\u001b[0m 29ms/step\n",
      "Accuracy: 0.6342592592592593\n",
      "F1 Macro: 0.6197829068812412\n",
      "F1 Weighted: 0.6343796205222758\n",
      "\n",
      "Classification Report:\n",
      "               precision    recall  f1-score   support\n",
      "\n",
      "       angry       0.78      0.75      0.76        28\n",
      "        calm       0.74      0.69      0.71        29\n",
      "     disgust       0.67      0.69      0.68        29\n",
      "     fearful       0.82      0.62      0.71        29\n",
      "       happy       0.52      0.59      0.55        29\n",
      "     neutral       0.38      0.43      0.40        14\n",
      "         sad       0.52      0.41      0.46        29\n",
      "   surprised       0.61      0.79      0.69        29\n",
      "\n",
      "    accuracy                           0.63       216\n",
      "   macro avg       0.63      0.62      0.62       216\n",
      "weighted avg       0.64      0.63      0.63       216\n",
      "\n"
     ]
    }
   ],
   "source": [
    "best_model = tf.keras.models.load_model(f'{MODEL_PATH}/final_emotion_model.h5')\n",
    "y_pred = best_model.predict(X_test_scaled)\n",
    "y_pred_classes = np.argmax(y_pred, axis=1)\n",
    "\n",
    "print(\"Accuracy:\", accuracy_score(y_test, y_pred_classes))\n",
    "print(\"F1 Macro:\", f1_score(y_test, y_pred_classes, average='macro'))\n",
    "print(\"F1 Weighted:\", f1_score(y_test, y_pred_classes, average='weighted'))\n",
    "\n",
    "print(\"\\nClassification Report:\\n\", classification_report(y_test, y_pred_classes, target_names=label_encoder.classes_))\n"
   ]
  },
  {
   "cell_type": "code",
   "execution_count": 33,
   "id": "62a037f5",
   "metadata": {},
   "outputs": [
    {
     "data": {
      "image/png": "[encoded data removed]",
      "text/plain": [
       "<Figure size 1000x800 with 2 Axes>"
      ]
     },
     "metadata": {},
     "output_type": "display_data"
    }
   ],
   "source": [
    "cm = confusion_matrix(y_test, y_pred_classes)\n",
    "plt.figure(figsize=(10, 8))\n",
    "sns.heatmap(cm, annot=True, fmt='d', cmap='Blues', xticklabels=label_encoder.classes_, yticklabels=label_encoder.classes_)\n",
    "plt.title('Confusion Matrix - Final Model')\n",
    "plt.ylabel('True Label')\n",
    "plt.xlabel('Predicted Label')\n",
    "plt.show()\n"
   ]
  },
  {
   "cell_type": "code",
   "execution_count": 34,
   "id": "5f98b8d7",
   "metadata": {},
   "outputs": [
    {
     "name": "stderr",
     "output_type": "stream",
     "text": [
      "WARNING:absl:You are saving your model as an HDF5 file via `model.save()` or `keras.saving.save_model(model)`. This file format is considered legacy. We recommend using instead the native Keras format, e.g. `model.save('my_model.keras')` or `keras.saving.save_model(model, 'my_model.keras')`. \n"
     ]
    },
    {
     "data": {
      "text/plain": [
       "['../models/final_label_encoder.pkl']"
      ]
     },
     "execution_count": 34,
     "metadata": {},
     "output_type": "execute_result"
    }
   ],
   "source": [
    "best_model.save(f'{MODEL_PATH}/final_emotion_classifier_model.h5')\n",
    "joblib.dump(scaler, f'{MODEL_PATH}/final_scaler.pkl')\n",
    "joblib.dump(label_encoder, f'{MODEL_PATH}/final_label_encoder.pkl')\n"
   ]
  },
  {
   "cell_type": "code",
   "execution_count": 35,
   "id": "f61f396e",
   "metadata": {},
   "outputs": [
    {
     "name": "stderr",
     "output_type": "stream",
     "text": [
      "WARNING:absl:Compiled the loaded model, but the compiled metrics have yet to be built. `model.compile_metrics` will be empty until you train or evaluate the model.\n"
     ]
    },
    {
     "name": "stdout",
     "output_type": "stream",
     "text": [
      "\u001b[1m1/1\u001b[0m \u001b[32m━━━━━━━━━━━━━━━━━━━━\u001b[0m\u001b[37m\u001b[0m \u001b[1m0s\u001b[0m 149ms/step\n",
      "Predicted: happy\n",
      "Confidence: 0.99\n"
     ]
    }
   ],
   "source": [
    "def predict_emotion(audio_path):\n",
    "    model = tf.keras.models.load_model(f'{MODEL_PATH}/final_emotion_classifier_model.h5')\n",
    "    scaler = joblib.load(f'{MODEL_PATH}/final_scaler.pkl')\n",
    "    encoder = joblib.load(f'{MODEL_PATH}/final_label_encoder.pkl')\n",
    "    \n",
    "    features = extract_features(audio_path)\n",
    "    if features is None:\n",
    "        return \"Invalid audio file\"\n",
    "    \n",
    "    scaled = scaler.transform(features.reshape(1, -1))\n",
    "    probs = model.predict(scaled)[0]\n",
    "    pred = encoder.inverse_transform([np.argmax(probs)])[0]\n",
    "    \n",
    "    return pred, probs\n",
    "\n",
    "sample_path = df_filtered.iloc[0]['filepath']\n",
    "emotion, prob = predict_emotion(sample_path)\n",
    "print(f\"Predicted: {emotion}\")\n",
    "print(f\"Confidence: {np.max(prob):.2f}\")\n"
   ]
  }
 ],
 "metadata": {
  "kernelspec": {
   "display_name": "venv",
   "language": "python",
   "name": "python3"
  },
  "language_info": {
   "codemirror_mode": {
    "name": "ipython",
    "version": 3
   },
   "file_extension": ".py",
   "mimetype": "text/x-python",
   "name": "python",
   "nbconvert_exporter": "python",
   "pygments_lexer": "ipython3",
   "version": "3.10.12"
  }
 },
 "nbformat": 4,
 "nbformat_minor": 5
}
