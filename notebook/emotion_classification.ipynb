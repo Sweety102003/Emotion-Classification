{
 "cells": [
  {
   "cell_type": "markdown",
   "id": "be54e950",
   "metadata": {},
   "source": [
    "# Emotion Classification from Speech\n",
    "\n",
    "## 1. Setup and Imports\n",
    "\n",
    "First, we'll import all the necessary libraries for our project. This includes libraries for data manipulation (`pandas`, `numpy`), audio processing (`librosa`), machine learning (`tensorflow`, `scikit-learn`), and plotting (`matplotlib`, `seaborn`)."
   ]
  },
  {
   "cell_type": "code",
   "execution_count": 2,
   "id": "176b200c",
   "metadata": {},
   "outputs": [
    {
     "name": "stderr",
     "output_type": "stream",
     "text": [
      "WARNING: All log messages before absl::InitializeLog() is called are written to STDERR\n",
      "E0000 00:00:1750913053.399938    5197 cuda_dnn.cc:8579] Unable to register cuDNN factory: Attempting to register factory for plugin cuDNN when one has already been registered\n",
      "E0000 00:00:1750913053.466873    5197 cuda_blas.cc:1407] Unable to register cuBLAS factory: Attempting to register factory for plugin cuBLAS when one has already been registered\n",
      "W0000 00:00:1750913053.824192    5197 computation_placer.cc:177] computation placer already registered. Please check linkage and avoid linking the same target more than once.\n",
      "W0000 00:00:1750913053.824304    5197 computation_placer.cc:177] computation placer already registered. Please check linkage and avoid linking the same target more than once.\n",
      "W0000 00:00:1750913053.824321    5197 computation_placer.cc:177] computation placer already registered. Please check linkage and avoid linking the same target more than once.\n",
      "W0000 00:00:1750913053.824331    5197 computation_placer.cc:177] computation placer already registered. Please check linkage and avoid linking the same target more than once.\n"
     ]
    }
   ],
   "source": [
    "import os\n",
    "os.environ['TF_CPP_MIN_LOG_LEVEL'] = '3'  # Suppress TensorFlow messages\n",
    "\n",
    "import warnings\n",
    "warnings.filterwarnings('ignore')  # Suppress Python warnings\n",
    "\n",
    "import tensorflow as tf\n",
    "tf.get_logger().setLevel('ERROR')  # Suppress TF logs in notebook\n",
    "\n",
    "# Rest of your imports\n",
    "import pandas as pd\n",
    "import numpy as np\n",
    "import librosa\n",
    "import matplotlib.pyplot as plt\n",
    "import seaborn as sns\n",
    "from tqdm import tqdm\n",
    "from sklearn.model_selection import train_test_split\n",
    "from sklearn.preprocessing import LabelEncoder, StandardScaler\n",
    "from sklearn.metrics import classification_report, confusion_matrix, accuracy_score, f1_score\n",
    "import joblib\n",
    "import random\n",
    "\n",
    "\n"
   ]
  },
  {
   "cell_type": "code",
   "execution_count": 3,
   "id": "0bbae694",
   "metadata": {},
   "outputs": [],
   "source": [
    "\n",
    "np.random.seed(42)\n",
    "tf.random.set_seed(42)\n",
    "\n",
    "DATA_PATH = '../data'\n",
    "MODEL_PATH = '../models'\n",
    "os.makedirs(MODEL_PATH, exist_ok=True)\n"
   ]
  },
  {
   "cell_type": "code",
   "execution_count": 4,
   "id": "3b89a515-4712-4d2a-8c2a-889ec8772515",
   "metadata": {},
   "outputs": [],
   "source": [
    "emotion_map = {\n",
    "    '01': 'neutral', '02': 'calm', '03': 'happy', '04': 'sad',\n",
    "    '05': 'angry', '06': 'fearful', '07': 'disgust', '08': 'surprised'\n",
    "}\n",
    "\n",
    "def parse_filename(filename):\n",
    "    parts = filename.replace('.wav', '').split('-')\n",
    "    if len(parts) >= 7:\n",
    "        emotion_code = parts[2]\n",
    "        intensity = parts[3]\n",
    "        statement = parts[4]\n",
    "        repetition = parts[5]\n",
    "        actor = parts[6]\n",
    "        return {\n",
    "            'filename': filename,\n",
    "            'emotion_code': emotion_code,\n",
    "            'emotion': emotion_map.get(emotion_code, 'unknown'),\n",
    "            'intensity': intensity,\n",
    "            'statement': statement,\n",
    "            'repetition': repetition,\n",
    "            'actor': actor\n",
    "        }\n",
    "    return None\n"
   ]
  },
  {
   "cell_type": "code",
   "execution_count": 5,
   "id": "1c43cb6b",
   "metadata": {},
   "outputs": [],
   "source": [
    "\n",
    "def augment_audio(audio, sr):\n",
    "    if random.random() < 0.3:\n",
    "        noise = np.random.normal(0, 0.005, len(audio))\n",
    "        audio = audio + noise\n",
    "    if random.random() < 0.3:\n",
    "        steps = float(np.random.uniform(-2, 2))\n",
    "        audio = librosa.effects.pitch_shift(y=audio, sr=sr, n_steps=steps)\n",
    "    if random.random() < 0.3:\n",
    "        rate = float(np.random.uniform(0.8, 1.2))\n",
    "        audio = librosa.effects.time_stretch(y=audio, rate=rate)\n",
    "        target_len = int(sr * 3)\n",
    "        if len(audio) < target_len:\n",
    "            audio = np.pad(audio, (0, target_len - len(audio)), 'constant')\n",
    "        else:\n",
    "            audio = audio[:target_len]\n",
    "    return audio\n",
    "\n",
    "def extract_features_from_audio(audio, sr):\n",
    "    try:\n",
    "        target_len = int(sr * 3)\n",
    "        if len(audio) < target_len:\n",
    "            audio = np.pad(audio, (0, target_len - len(audio)), 'constant')\n",
    "        else:\n",
    "            audio = audio[:target_len]\n",
    "        mfcc = librosa.feature.mfcc(y=audio, sr=sr, n_mfcc=13)\n",
    "        chroma = librosa.feature.chroma_stft(y=audio, sr=sr)\n",
    "        mel = librosa.feature.melspectrogram(y=audio, sr=sr)\n",
    "        contrast = librosa.feature.spectral_contrast(y=audio, sr=sr)\n",
    "        tonnetz = librosa.feature.tonnetz(y=audio, sr=sr)\n",
    "        centroid = librosa.feature.spectral_centroid(y=audio, sr=sr)\n",
    "        rolloff = librosa.feature.spectral_rolloff(y=audio, sr=sr)\n",
    "        zcr = librosa.feature.zero_crossing_rate(audio)\n",
    "        rms = librosa.feature.rms(y=audio)\n",
    "\n",
    "        features = np.concatenate([\n",
    "            np.mean(mfcc.T, axis=0), np.std(mfcc.T, axis=0),\n",
    "            np.mean(chroma.T, axis=0), np.std(chroma.T, axis=0),\n",
    "            np.mean(mel.T, axis=0)[:20], np.std(mel.T, axis=0)[:20],\n",
    "            np.mean(contrast.T, axis=0), np.std(contrast.T, axis=0),\n",
    "            np.mean(tonnetz.T, axis=0), np.std(tonnetz.T, axis=0),\n",
    "            np.mean(centroid.T, axis=0),\n",
    "            np.mean(rolloff.T, axis=0),\n",
    "            np.mean(zcr.T, axis=0),\n",
    "            np.mean(rms.T, axis=0)\n",
    "        ])\n",
    "        return features\n",
    "    except Exception as e:\n",
    "        print(f\"Error processing audio array: {e}\")\n",
    "        return None\n",
    "\n",
    "def extract_features(file_path, max_length=3):\n",
    "    try:\n",
    "        audio, sr = librosa.load(file_path, sr=22050, duration=max_length)\n",
    "        return extract_features_from_audio(audio, sr)\n",
    "    except Exception as e:\n",
    "        print(f\"Error processing {file_path}: {e}\")\n",
    "        return None\n",
    "\n",
    "\n"
   ]
  },
  {
   "cell_type": "code",
   "execution_count": 6,
   "id": "7496de12",
   "metadata": {},
   "outputs": [],
   "source": [
    "def create_improved_model(input_shape, num_classes):\n",
    "    model = tf.keras.Sequential([\n",
    "        tf.keras.layers.Dense(512, activation='relu', input_shape=input_shape),\n",
    "        tf.keras.layers.BatchNormalization(),\n",
    "        tf.keras.layers.Dropout(0.4),\n",
    "        tf.keras.layers.Dense(256, activation='relu'),\n",
    "        tf.keras.layers.BatchNormalization(),\n",
    "        tf.keras.layers.Dropout(0.4),\n",
    "        tf.keras.layers.Dense(128, activation='relu'),\n",
    "        tf.keras.layers.BatchNormalization(),\n",
    "        tf.keras.layers.Dropout(0.3),\n",
    "        tf.keras.layers.Dense(64, activation='relu'),\n",
    "        tf.keras.layers.BatchNormalization(),\n",
    "        tf.keras.layers.Dropout(0.2),\n",
    "        tf.keras.layers.Dense(num_classes, activation='softmax')\n",
    "    ])\n",
    "    model.compile(\n",
    "        optimizer=tf.keras.optimizers.Adam(learning_rate=0.001),\n",
    "        loss='sparse_categorical_crossentropy',\n",
    "        metrics=['accuracy']\n",
    "    )\n",
    "    return model\n",
    "\n",
    "def predict_emotion(audio_file_path):\n",
    "    model = tf.keras.models.load_model(f'{MODEL_PATH}/final_emotion_classifier_model.h5')\n",
    "    scaler = joblib.load(f'{MODEL_PATH}/final_scaler.pkl')\n",
    "    label_encoder = joblib.load(f'{MODEL_PATH}/final_label_encoder.pkl')\n",
    "\n",
    "    features = extract_features(audio_file_path)\n",
    "    if features is None:\n",
    "        return \"Error: Could not extract features from audio file\"\n",
    "\n",
    "    features_scaled = scaler.transform(features.reshape(1, -1))\n",
    "    prediction = model.predict(features_scaled)\n",
    "    predicted_class = np.argmax(prediction[0])\n",
    "    predicted_emotion = label_encoder.inverse_transform([predicted_class])[0]\n",
    "    confidence = np.max(prediction[0])\n",
    "    return {\n",
    "        'emotion': predicted_emotion,\n",
    "        'confidence': confidence,\n",
    "        'probabilities': dict(zip(label_encoder.classes_, prediction[0]))\n",
    "    }\n",
    "        \n"
   ]
  },
  {
   "cell_type": "code",
   "execution_count": 7,
   "id": "7f5f8968",
   "metadata": {},
   "outputs": [
    {
     "name": "stdout",
     "output_type": "stream",
     "text": [
      "Total audio files found: 1440\n",
      "emotion\n",
      "happy        192\n",
      "disgust      192\n",
      "calm         192\n",
      "fearful      192\n",
      "angry        192\n",
      "sad          192\n",
      "surprised    192\n",
      "neutral       96\n",
      "Name: count, dtype: int64\n"
     ]
    }
   ],
   "source": [
    "audio_files = []\n",
    "for actor_dir in os.listdir(DATA_PATH):\n",
    "    if actor_dir.startswith('Actor_'):\n",
    "        actor_path = os.path.join(DATA_PATH, actor_dir)\n",
    "        if os.path.isdir(actor_path):\n",
    "            for file in os.listdir(actor_path):\n",
    "                if file.endswith('.wav'):\n",
    "                    metadata = parse_filename(file)\n",
    "                    if metadata:\n",
    "                        metadata['filepath'] = os.path.join(actor_path, file)\n",
    "                        audio_files.append(metadata)\n",
    "\n",
    "df = pd.DataFrame(audio_files)\n",
    "print(f\"Total audio files found: {len(df)}\")\n",
    "print(df['emotion'].value_counts())"
   ]
  },
  {
   "cell_type": "code",
   "execution_count": 8,
   "id": "3b31a3b3",
   "metadata": {},
   "outputs": [
    {
     "name": "stdout",
     "output_type": "stream",
     "text": [
      "Extracting features...\n"
     ]
    },
    {
     "name": "stderr",
     "output_type": "stream",
     "text": [
      "  0%|          | 0/1440 [00:00<?, ?it/s]"
     ]
    },
    {
     "name": "stderr",
     "output_type": "stream",
     "text": [
      "100%|██████████| 1440/1440 [21:12<00:00,  1.13it/s] "
     ]
    },
    {
     "name": "stdout",
     "output_type": "stream",
     "text": [
      "\n",
      " Extracted features from 2447 samples.\n",
      "Filtered DataFrame shape: (2447, 8)\n",
      "Feature array shape: (2447, 120)\n"
     ]
    },
    {
     "name": "stderr",
     "output_type": "stream",
     "text": [
      "\n"
     ]
    }
   ],
   "source": [
    "features_list = []\n",
    "valid_indices = []\n",
    "\n",
    "print(\"Extracting features...\")\n",
    "\n",
    "for idx, row in tqdm(df.iterrows(), total=len(df)):\n",
    "    features = extract_features(row['filepath'])\n",
    "    if features is not None:\n",
    "        features_list.append(features)\n",
    "        valid_indices.append(idx)\n",
    "\n",
    "        # Data augmentation: only for first 70%\n",
    "        if idx < int(0.7 * len(df)):\n",
    "            audio, sr = librosa.load(row['filepath'], sr=22050, duration=3)\n",
    "            audio_aug = augment_audio(audio, sr)\n",
    "            features_aug = extract_features_from_audio(audio_aug, sr)\n",
    "            if features_aug is not None:\n",
    "                features_list.append(features_aug)\n",
    "                valid_indices.append(idx)\n",
    "\n",
    "# Convert to dataframe and numpy array\n",
    "df_filtered = df.iloc[valid_indices].reset_index(drop=True)\n",
    "features_array = np.array(features_list)\n",
    "\n",
    "# Print summary\n",
    "print(f\"\\n Extracted features from {len(features_array)} samples.\")\n",
    "print(f\"Filtered DataFrame shape: {df_filtered.shape}\")\n",
    "print(f\"Feature array shape: {features_array.shape}\")\n"
   ]
  },
  {
   "cell_type": "code",
   "execution_count": 9,
   "id": "01e914fa",
   "metadata": {},
   "outputs": [],
   "source": [
    "label_encoder = LabelEncoder()\n",
    "labels = label_encoder.fit_transform(df_filtered['emotion'])\n",
    "\n",
    "X_train, X_temp, y_train, y_temp = train_test_split(\n",
    "    features_array, labels, test_size=0.3, random_state=42, stratify=labels\n",
    ")\n",
    "X_val, X_test, y_val, y_test = train_test_split(\n",
    "    X_temp, y_temp, test_size=0.5, random_state=42, stratify=y_temp\n",
    ")\n",
    "\n",
    "scaler = StandardScaler()\n",
    "X_train_scaled = scaler.fit_transform(X_train)\n",
    "X_val_scaled = scaler.transform(X_val)\n",
    "X_test_scaled = scaler.transform(X_test)"
   ]
  },
  {
   "cell_type": "code",
   "execution_count": 13,
   "id": "ec729194",
   "metadata": {},
   "outputs": [
    {
     "name": "stdout",
     "output_type": "stream",
     "text": [
      "\n",
      "Epoch 1: val_accuracy improved from -inf to 0.35150, saving model to ../models/final_emotion_model.h5\n"
     ]
    },
    {
     "name": "stderr",
     "output_type": "stream",
     "text": [
      "WARNING:absl:You are saving your model as an HDF5 file via `model.save()` or `keras.saving.save_model(model)`. This file format is considered legacy. We recommend using instead the native Keras format, e.g. `model.save('my_model.keras')` or `keras.saving.save_model(model, 'my_model.keras')`. \n"
     ]
    },
    {
     "name": "stdout",
     "output_type": "stream",
     "text": [
      "\n",
      "Epoch 2: val_accuracy improved from 0.35150 to 0.41417, saving model to ../models/final_emotion_model.h5\n"
     ]
    },
    {
     "name": "stderr",
     "output_type": "stream",
     "text": [
      "WARNING:absl:You are saving your model as an HDF5 file via `model.save()` or `keras.saving.save_model(model)`. This file format is considered legacy. We recommend using instead the native Keras format, e.g. `model.save('my_model.keras')` or `keras.saving.save_model(model, 'my_model.keras')`. \n"
     ]
    },
    {
     "name": "stdout",
     "output_type": "stream",
     "text": [
      "\n",
      "Epoch 3: val_accuracy improved from 0.41417 to 0.42779, saving model to ../models/final_emotion_model.h5\n"
     ]
    },
    {
     "name": "stderr",
     "output_type": "stream",
     "text": [
      "WARNING:absl:You are saving your model as an HDF5 file via `model.save()` or `keras.saving.save_model(model)`. This file format is considered legacy. We recommend using instead the native Keras format, e.g. `model.save('my_model.keras')` or `keras.saving.save_model(model, 'my_model.keras')`. \n"
     ]
    },
    {
     "name": "stdout",
     "output_type": "stream",
     "text": [
      "\n",
      "Epoch 4: val_accuracy improved from 0.42779 to 0.47956, saving model to ../models/final_emotion_model.h5\n"
     ]
    },
    {
     "name": "stderr",
     "output_type": "stream",
     "text": [
      "WARNING:absl:You are saving your model as an HDF5 file via `model.save()` or `keras.saving.save_model(model)`. This file format is considered legacy. We recommend using instead the native Keras format, e.g. `model.save('my_model.keras')` or `keras.saving.save_model(model, 'my_model.keras')`. \n"
     ]
    },
    {
     "name": "stdout",
     "output_type": "stream",
     "text": [
      "\n",
      "Epoch 5: val_accuracy improved from 0.47956 to 0.49319, saving model to ../models/final_emotion_model.h5\n"
     ]
    },
    {
     "name": "stderr",
     "output_type": "stream",
     "text": [
      "WARNING:absl:You are saving your model as an HDF5 file via `model.save()` or `keras.saving.save_model(model)`. This file format is considered legacy. We recommend using instead the native Keras format, e.g. `model.save('my_model.keras')` or `keras.saving.save_model(model, 'my_model.keras')`. \n"
     ]
    },
    {
     "name": "stdout",
     "output_type": "stream",
     "text": [
      "\n",
      "Epoch 6: val_accuracy improved from 0.49319 to 0.52861, saving model to ../models/final_emotion_model.h5\n"
     ]
    },
    {
     "name": "stderr",
     "output_type": "stream",
     "text": [
      "WARNING:absl:You are saving your model as an HDF5 file via `model.save()` or `keras.saving.save_model(model)`. This file format is considered legacy. We recommend using instead the native Keras format, e.g. `model.save('my_model.keras')` or `keras.saving.save_model(model, 'my_model.keras')`. \n"
     ]
    },
    {
     "name": "stdout",
     "output_type": "stream",
     "text": [
      "\n",
      "Epoch 7: val_accuracy improved from 0.52861 to 0.54496, saving model to ../models/final_emotion_model.h5\n"
     ]
    },
    {
     "name": "stderr",
     "output_type": "stream",
     "text": [
      "WARNING:absl:You are saving your model as an HDF5 file via `model.save()` or `keras.saving.save_model(model)`. This file format is considered legacy. We recommend using instead the native Keras format, e.g. `model.save('my_model.keras')` or `keras.saving.save_model(model, 'my_model.keras')`. \n"
     ]
    },
    {
     "name": "stdout",
     "output_type": "stream",
     "text": [
      "\n",
      "Epoch 8: val_accuracy improved from 0.54496 to 0.57493, saving model to ../models/final_emotion_model.h5\n"
     ]
    },
    {
     "name": "stderr",
     "output_type": "stream",
     "text": [
      "WARNING:absl:You are saving your model as an HDF5 file via `model.save()` or `keras.saving.save_model(model)`. This file format is considered legacy. We recommend using instead the native Keras format, e.g. `model.save('my_model.keras')` or `keras.saving.save_model(model, 'my_model.keras')`. \n"
     ]
    },
    {
     "name": "stdout",
     "output_type": "stream",
     "text": [
      "\n",
      "Epoch 9: val_accuracy improved from 0.57493 to 0.58311, saving model to ../models/final_emotion_model.h5\n"
     ]
    },
    {
     "name": "stderr",
     "output_type": "stream",
     "text": [
      "WARNING:absl:You are saving your model as an HDF5 file via `model.save()` or `keras.saving.save_model(model)`. This file format is considered legacy. We recommend using instead the native Keras format, e.g. `model.save('my_model.keras')` or `keras.saving.save_model(model, 'my_model.keras')`. \n"
     ]
    },
    {
     "name": "stdout",
     "output_type": "stream",
     "text": [
      "\n",
      "Epoch 10: val_accuracy improved from 0.58311 to 0.58856, saving model to ../models/final_emotion_model.h5\n"
     ]
    },
    {
     "name": "stderr",
     "output_type": "stream",
     "text": [
      "WARNING:absl:You are saving your model as an HDF5 file via `model.save()` or `keras.saving.save_model(model)`. This file format is considered legacy. We recommend using instead the native Keras format, e.g. `model.save('my_model.keras')` or `keras.saving.save_model(model, 'my_model.keras')`. \n"
     ]
    },
    {
     "name": "stdout",
     "output_type": "stream",
     "text": [
      "\n",
      "Epoch 11: val_accuracy improved from 0.58856 to 0.60218, saving model to ../models/final_emotion_model.h5\n"
     ]
    },
    {
     "name": "stderr",
     "output_type": "stream",
     "text": [
      "WARNING:absl:You are saving your model as an HDF5 file via `model.save()` or `keras.saving.save_model(model)`. This file format is considered legacy. We recommend using instead the native Keras format, e.g. `model.save('my_model.keras')` or `keras.saving.save_model(model, 'my_model.keras')`. \n"
     ]
    },
    {
     "name": "stdout",
     "output_type": "stream",
     "text": [
      "\n",
      "Epoch 12: val_accuracy improved from 0.60218 to 0.63488, saving model to ../models/final_emotion_model.h5\n"
     ]
    },
    {
     "name": "stderr",
     "output_type": "stream",
     "text": [
      "WARNING:absl:You are saving your model as an HDF5 file via `model.save()` or `keras.saving.save_model(model)`. This file format is considered legacy. We recommend using instead the native Keras format, e.g. `model.save('my_model.keras')` or `keras.saving.save_model(model, 'my_model.keras')`. \n"
     ]
    },
    {
     "name": "stdout",
     "output_type": "stream",
     "text": [
      "\n",
      "Epoch 13: val_accuracy did not improve from 0.63488\n",
      "\n",
      "Epoch 14: val_accuracy did not improve from 0.63488\n",
      "\n",
      "Epoch 15: val_accuracy improved from 0.63488 to 0.66213, saving model to ../models/final_emotion_model.h5\n"
     ]
    },
    {
     "name": "stderr",
     "output_type": "stream",
     "text": [
      "WARNING:absl:You are saving your model as an HDF5 file via `model.save()` or `keras.saving.save_model(model)`. This file format is considered legacy. We recommend using instead the native Keras format, e.g. `model.save('my_model.keras')` or `keras.saving.save_model(model, 'my_model.keras')`. \n"
     ]
    },
    {
     "name": "stdout",
     "output_type": "stream",
     "text": [
      "\n",
      "Epoch 16: val_accuracy did not improve from 0.66213\n",
      "\n",
      "Epoch 17: val_accuracy did not improve from 0.66213\n",
      "\n",
      "Epoch 18: val_accuracy did not improve from 0.66213\n",
      "\n",
      "Epoch 19: val_accuracy did not improve from 0.66213\n",
      "\n",
      "Epoch 20: val_accuracy did not improve from 0.66213\n",
      "\n",
      "Epoch 21: val_accuracy did not improve from 0.66213\n",
      "\n",
      "Epoch 22: val_accuracy improved from 0.66213 to 0.68392, saving model to ../models/final_emotion_model.h5\n"
     ]
    },
    {
     "name": "stderr",
     "output_type": "stream",
     "text": [
      "WARNING:absl:You are saving your model as an HDF5 file via `model.save()` or `keras.saving.save_model(model)`. This file format is considered legacy. We recommend using instead the native Keras format, e.g. `model.save('my_model.keras')` or `keras.saving.save_model(model, 'my_model.keras')`. \n"
     ]
    },
    {
     "name": "stdout",
     "output_type": "stream",
     "text": [
      "\n",
      "Epoch 23: val_accuracy improved from 0.68392 to 0.68665, saving model to ../models/final_emotion_model.h5\n"
     ]
    },
    {
     "name": "stderr",
     "output_type": "stream",
     "text": [
      "WARNING:absl:You are saving your model as an HDF5 file via `model.save()` or `keras.saving.save_model(model)`. This file format is considered legacy. We recommend using instead the native Keras format, e.g. `model.save('my_model.keras')` or `keras.saving.save_model(model, 'my_model.keras')`. \n"
     ]
    },
    {
     "name": "stdout",
     "output_type": "stream",
     "text": [
      "\n",
      "Epoch 24: val_accuracy improved from 0.68665 to 0.68937, saving model to ../models/final_emotion_model.h5\n"
     ]
    },
    {
     "name": "stderr",
     "output_type": "stream",
     "text": [
      "WARNING:absl:You are saving your model as an HDF5 file via `model.save()` or `keras.saving.save_model(model)`. This file format is considered legacy. We recommend using instead the native Keras format, e.g. `model.save('my_model.keras')` or `keras.saving.save_model(model, 'my_model.keras')`. \n"
     ]
    },
    {
     "name": "stdout",
     "output_type": "stream",
     "text": [
      "\n",
      "Epoch 25: val_accuracy improved from 0.68937 to 0.70027, saving model to ../models/final_emotion_model.h5\n"
     ]
    },
    {
     "name": "stderr",
     "output_type": "stream",
     "text": [
      "WARNING:absl:You are saving your model as an HDF5 file via `model.save()` or `keras.saving.save_model(model)`. This file format is considered legacy. We recommend using instead the native Keras format, e.g. `model.save('my_model.keras')` or `keras.saving.save_model(model, 'my_model.keras')`. \n"
     ]
    },
    {
     "name": "stdout",
     "output_type": "stream",
     "text": [
      "\n",
      "Epoch 26: val_accuracy did not improve from 0.70027\n",
      "\n",
      "Epoch 27: val_accuracy did not improve from 0.70027\n",
      "\n",
      "Epoch 28: val_accuracy improved from 0.70027 to 0.72207, saving model to ../models/final_emotion_model.h5\n"
     ]
    },
    {
     "name": "stderr",
     "output_type": "stream",
     "text": [
      "WARNING:absl:You are saving your model as an HDF5 file via `model.save()` or `keras.saving.save_model(model)`. This file format is considered legacy. We recommend using instead the native Keras format, e.g. `model.save('my_model.keras')` or `keras.saving.save_model(model, 'my_model.keras')`. \n"
     ]
    },
    {
     "name": "stdout",
     "output_type": "stream",
     "text": [
      "\n",
      "Epoch 29: val_accuracy did not improve from 0.72207\n",
      "\n",
      "Epoch 30: val_accuracy did not improve from 0.72207\n",
      "\n",
      "Epoch 31: val_accuracy did not improve from 0.72207\n",
      "\n",
      "Epoch 32: val_accuracy did not improve from 0.72207\n",
      "\n",
      "Epoch 33: val_accuracy did not improve from 0.72207\n",
      "\n",
      "Epoch 34: val_accuracy did not improve from 0.72207\n",
      "\n",
      "Epoch 35: val_accuracy did not improve from 0.72207\n",
      "\n",
      "Epoch 36: val_accuracy did not improve from 0.72207\n",
      "\n",
      "Epoch 37: val_accuracy did not improve from 0.72207\n",
      "\n",
      "Epoch 38: val_accuracy did not improve from 0.72207\n",
      "\n",
      "Epoch 39: ReduceLROnPlateau reducing learning rate to 0.0005000000237487257.\n",
      "\n",
      "Epoch 39: val_accuracy did not improve from 0.72207\n",
      "\n",
      "Epoch 40: val_accuracy did not improve from 0.72207\n",
      "\n",
      "Epoch 41: val_accuracy did not improve from 0.72207\n",
      "\n",
      "Epoch 42: val_accuracy did not improve from 0.72207\n",
      "\n",
      "Epoch 43: val_accuracy did not improve from 0.72207\n",
      "\n",
      "Epoch 44: val_accuracy did not improve from 0.72207\n",
      "\n",
      "Epoch 45: val_accuracy improved from 0.72207 to 0.73297, saving model to ../models/final_emotion_model.h5\n"
     ]
    },
    {
     "name": "stderr",
     "output_type": "stream",
     "text": [
      "WARNING:absl:You are saving your model as an HDF5 file via `model.save()` or `keras.saving.save_model(model)`. This file format is considered legacy. We recommend using instead the native Keras format, e.g. `model.save('my_model.keras')` or `keras.saving.save_model(model, 'my_model.keras')`. \n"
     ]
    },
    {
     "name": "stdout",
     "output_type": "stream",
     "text": [
      "\n",
      "Epoch 46: val_accuracy did not improve from 0.73297\n",
      "\n",
      "Epoch 47: val_accuracy did not improve from 0.73297\n",
      "\n",
      "Epoch 48: val_accuracy did not improve from 0.73297\n",
      "\n",
      "Epoch 49: ReduceLROnPlateau reducing learning rate to 0.0002500000118743628.\n",
      "\n",
      "Epoch 49: val_accuracy did not improve from 0.73297\n",
      "\n",
      "Epoch 50: val_accuracy did not improve from 0.73297\n",
      "\n",
      "Epoch 51: val_accuracy did not improve from 0.73297\n",
      "\n",
      "Epoch 52: val_accuracy did not improve from 0.73297\n",
      "\n",
      "Epoch 53: val_accuracy did not improve from 0.73297\n",
      "\n",
      "Epoch 54: val_accuracy did not improve from 0.73297\n",
      "\n",
      "Epoch 55: val_accuracy did not improve from 0.73297\n",
      "\n",
      "Epoch 56: val_accuracy did not improve from 0.73297\n",
      "\n",
      "Epoch 57: val_accuracy did not improve from 0.73297\n",
      "\n",
      "Epoch 58: val_accuracy did not improve from 0.73297\n",
      "\n",
      "Epoch 59: ReduceLROnPlateau reducing learning rate to 0.0001250000059371814.\n",
      "\n",
      "Epoch 59: val_accuracy did not improve from 0.73297\n",
      "\n",
      "Epoch 60: val_accuracy did not improve from 0.73297\n",
      "\n",
      "Epoch 61: val_accuracy did not improve from 0.73297\n",
      "\n",
      "Epoch 62: val_accuracy did not improve from 0.73297\n",
      "\n",
      "Epoch 63: val_accuracy did not improve from 0.73297\n",
      "\n",
      "Epoch 64: val_accuracy did not improve from 0.73297\n",
      "\n",
      "Epoch 65: val_accuracy did not improve from 0.73297\n",
      "\n",
      "Epoch 66: val_accuracy did not improve from 0.73297\n",
      "\n",
      "Epoch 67: val_accuracy did not improve from 0.73297\n",
      "\n",
      "Epoch 68: val_accuracy did not improve from 0.73297\n",
      "\n",
      "Epoch 69: ReduceLROnPlateau reducing learning rate to 6.25000029685907e-05.\n",
      "\n",
      "Epoch 69: val_accuracy did not improve from 0.73297\n",
      "\n",
      "Epoch 70: val_accuracy did not improve from 0.73297\n",
      "Epoch 70: early stopping\n",
      "Restoring model weights from the end of the best epoch: 45.\n"
     ]
    },
    {
     "data": {
      "image/png": "[encoded data removed]",
      "text/plain": [
       "<Figure size 1200x500 with 2 Axes>"
      ]
     },
     "metadata": {},
     "output_type": "display_data"
    }
   ],
   "source": [
    "# Define input shape and number of output classes\n",
    "input_shape = (X_train_scaled.shape[1],)\n",
    "num_classes = len(label_encoder.classes_)\n",
    "\n",
    "# Create the model\n",
    "model = create_improved_model(input_shape, num_classes)\n",
    "\n",
    "# Set training parameters\n",
    "EPOCHS = 200\n",
    "BATCH_SIZE = 16\n",
    "PATIENCE = 25\n",
    "\n",
    "# Callbacks for training\n",
    "callbacks = [\n",
    "    tf.keras.callbacks.EarlyStopping(monitor='val_accuracy', patience=PATIENCE, restore_best_weights=True, verbose=1),\n",
    "    tf.keras.callbacks.ReduceLROnPlateau(monitor='val_loss', factor=0.5, patience=10, min_lr=1e-7, verbose=1),\n",
    "    tf.keras.callbacks.ModelCheckpoint(f'{MODEL_PATH}/final_emotion_model.h5', monitor='val_accuracy', save_best_only=True, verbose=1)\n",
    "]\n",
    "\n",
    "# Train the model (set verbose=1 for per-epoch summary or verbose=2 for compact output)\n",
    "history = model.fit(\n",
    "    X_train_scaled, y_train,\n",
    "    validation_data=(X_val_scaled, y_val),\n",
    "    epochs=EPOCHS,\n",
    "    batch_size=BATCH_SIZE,\n",
    "    callbacks=callbacks,\n",
    "    verbose=0\n",
    ")\n",
    "\n",
    "# Plot training history\n",
    "import matplotlib.pyplot as plt\n",
    "\n",
    "plt.figure(figsize=(12, 5))\n",
    "\n",
    "# Accuracy plot\n",
    "plt.subplot(1, 2, 1)\n",
    "plt.plot(history.history['accuracy'], label='Train Accuracy')\n",
    "plt.plot(history.history['val_accuracy'], label='Val Accuracy')\n",
    "plt.xlabel('Epoch')\n",
    "plt.ylabel('Accuracy')\n",
    "plt.title('Model Accuracy')\n",
    "plt.legend()\n",
    "\n",
    "# Loss plot\n",
    "plt.subplot(1, 2, 2)\n",
    "plt.plot(history.history['loss'], label='Train Loss')\n",
    "plt.plot(history.history['val_loss'], label='Val Loss')\n",
    "plt.xlabel('Epoch')\n",
    "plt.ylabel('Loss')\n",
    "plt.title('Model Loss')\n",
    "plt.legend()\n",
    "\n",
    "plt.tight_layout()\n",
    "plt.show()\n"
   ]
  },
  {
   "cell_type": "code",
   "execution_count": 20,
   "id": "a6efbb58",
   "metadata": {},
   "outputs": [
    {
     "name": "stderr",
     "output_type": "stream",
     "text": [
      "WARNING:absl:Compiled the loaded model, but the compiled metrics have yet to be built. `model.compile_metrics` will be empty until you train or evaluate the model.\n"
     ]
    },
    {
     "name": "stdout",
     "output_type": "stream",
     "text": [
      "\u001b[1m12/12\u001b[0m \u001b[32m━━━━━━━━━━━━━━━━━━━━\u001b[0m\u001b[37m\u001b[0m \u001b[1m0s\u001b[0m 19ms/step\n",
      "Accuracy: 0.6820652173913043\n",
      "F1 Macro: 0.6762084246464333\n",
      "F1 Weighted: 0.680712700787971\n",
      "              precision    recall  f1-score   support\n",
      "\n",
      "       angry       0.78      0.82      0.80        49\n",
      "        calm       0.65      0.63      0.64        49\n",
      "     disgust       0.71      0.73      0.72        49\n",
      "     fearful       0.78      0.73      0.76        49\n",
      "       happy       0.57      0.59      0.58        49\n",
      "     neutral       0.55      0.68      0.61        25\n",
      "         sad       0.62      0.49      0.55        49\n",
      "   surprised       0.75      0.78      0.76        49\n",
      "\n",
      "    accuracy                           0.68       368\n",
      "   macro avg       0.67      0.68      0.68       368\n",
      "weighted avg       0.68      0.68      0.68       368\n",
      "\n"
     ]
    }
   ],
   "source": [
    "best_model = tf.keras.models.load_model(f'{MODEL_PATH}/final_emotion_model.h5')\n",
    "test_loss, test_accuracy = best_model.evaluate(X_test_scaled, y_test, verbose=0)\n",
    "\n",
    "y_pred = best_model.predict(X_test_scaled)\n",
    "y_pred_classes = np.argmax(y_pred, axis=1)\n",
    "print(\"Accuracy:\", accuracy_score(y_test, y_pred_classes))\n",
    "print(\"F1 Macro:\", f1_score(y_test, y_pred_classes, average='macro'))\n",
    "print(\"F1 Weighted:\", f1_score(y_test, y_pred_classes, average='weighted'))\n",
    "\n",
    "print(classification_report(y_test, y_pred_classes, target_names=label_encoder.classes_))\n"
   ]
  },
  {
   "cell_type": "code",
   "execution_count": 21,
   "id": "ac4269d2",
   "metadata": {},
   "outputs": [
    {
     "data": {
      "image/png": "[encoded data removed]",
      "text/plain": [
       "<Figure size 1000x800 with 2 Axes>"
      ]
     },
     "metadata": {},
     "output_type": "display_data"
    }
   ],
   "source": [
    "cm = confusion_matrix(y_test, y_pred_classes)\n",
    "plt.figure(figsize=(10, 8))\n",
    "sns.heatmap(cm, annot=True, fmt='d', cmap='Blues', xticklabels=label_encoder.classes_, yticklabels=label_encoder.classes_)\n",
    "plt.title('Confusion Matrix - Final Model')\n",
    "plt.ylabel('True Label')\n",
    "plt.xlabel('Predicted Label')\n",
    "plt.show()"
   ]
  },
  {
   "cell_type": "code",
   "execution_count": 22,
   "id": "010b42f3",
   "metadata": {},
   "outputs": [
    {
     "name": "stderr",
     "output_type": "stream",
     "text": [
      "WARNING:absl:You are saving your model as an HDF5 file via `model.save()` or `keras.saving.save_model(model)`. This file format is considered legacy. We recommend using instead the native Keras format, e.g. `model.save('my_model.keras')` or `keras.saving.save_model(model, 'my_model.keras')`. \n"
     ]
    },
    {
     "data": {
      "text/plain": [
       "['../models/final_label_encoder.pkl']"
      ]
     },
     "execution_count": 22,
     "metadata": {},
     "output_type": "execute_result"
    }
   ],
   "source": [
    "best_model.save(f'{MODEL_PATH}/final_emotion_classifier_model.h5')\n",
    "joblib.dump(scaler, f'{MODEL_PATH}/final_scaler.pkl')\n",
    "joblib.dump(label_encoder, f'{MODEL_PATH}/final_label_encoder.pkl')"
   ]
  },
  {
   "cell_type": "code",
   "execution_count": 23,
   "id": "28c79344",
   "metadata": {},
   "outputs": [
    {
     "name": "stderr",
     "output_type": "stream",
     "text": [
      "WARNING:absl:Compiled the loaded model, but the compiled metrics have yet to be built. `model.compile_metrics` will be empty until you train or evaluate the model.\n"
     ]
    },
    {
     "name": "stdout",
     "output_type": "stream",
     "text": [
      "\u001b[1m1/1\u001b[0m \u001b[32m━━━━━━━━━━━━━━━━━━━━\u001b[0m\u001b[37m\u001b[0m \u001b[1m0s\u001b[0m 212ms/step\n",
      "Predicted: happy\n",
      "Confidence: 1.00\n"
     ]
    }
   ],
   "source": [
    "def predict_emotion(audio_path):\n",
    "    model = tf.keras.models.load_model(f'{MODEL_PATH}/final_emotion_classifier_model.h5')\n",
    "    scaler = joblib.load(f'{MODEL_PATH}/final_scaler.pkl')\n",
    "    encoder = joblib.load(f'{MODEL_PATH}/final_label_encoder.pkl')\n",
    "    \n",
    "    features = extract_features(audio_path)\n",
    "    if features is None:\n",
    "        return \"Invalid audio file\"\n",
    "    \n",
    "    scaled = scaler.transform(features.reshape(1, -1))\n",
    "    probs = model.predict(scaled)[0]\n",
    "    pred = encoder.inverse_transform([np.argmax(probs)])[0]\n",
    "    \n",
    "    return pred, probs\n",
    "\n",
    "sample_path = df_filtered.iloc[0]['filepath']\n",
    "emotion, prob = predict_emotion(sample_path)\n",
    "print(f\"Predicted: {emotion}\")\n",
    "print(f\"Confidence: {np.max(prob):.2f}\")"
   ]
  }
 ],
 "metadata": {
  "kernelspec": {
   "display_name": "venv",
   "language": "python",
   "name": "python3"
  },
  "language_info": {
   "codemirror_mode": {
    "name": "ipython",
    "version": 3
   },
   "file_extension": ".py",
   "mimetype": "text/x-python",
   "name": "python",
   "nbconvert_exporter": "python",
   "pygments_lexer": "ipython3",
   "version": "3.10.12"
  }
 },
 "nbformat": 4,
 "nbformat_minor": 5
}
