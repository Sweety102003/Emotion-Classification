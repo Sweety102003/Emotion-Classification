{
 "cells": [
  {
   "cell_type": "markdown",
   "id": "be54e950",
   "metadata": {},
   "source": [
    "# Emotion Classification from Speech\n",
    "\n",
    "## 1. Setup and Imports\n",
    "\n",
    "First, we'll import all the necessary libraries for our project. This includes libraries for data manipulation (`pandas`, `numpy`), audio processing (`librosa`), machine learning (`tensorflow`, `scikit-learn`), and plotting (`matplotlib`, `seaborn`)."
   ]
  },
  {
   "cell_type": "code",
   "execution_count": null,
   "id": "176b200c",
   "metadata": {},
   "outputs": [],
   "source": []
  },
  {
   "cell_type": "code",
   "execution_count": null,
   "id": "0bbae694",
   "metadata": {},
   "outputs": [],
   "source": []
  },
  {
   "cell_type": "code",
   "execution_count": null,
   "id": "3b89a515-4712-4d2a-8c2a-889ec8772515",
   "metadata": {},
   "outputs": [],
   "source": []
  }
 ],
 "metadata": {
  "kernelspec": {
   "display_name": "Python 3 (ipykernel)",
   "language": "python",
   "name": "python3"
  },
  "language_info": {
   "codemirror_mode": {
    "name": "ipython",
    "version": 3
   },
   "file_extension": ".py",
   "mimetype": "text/x-python",
   "name": "python",
   "nbconvert_exporter": "python",
   "pygments_lexer": "ipython3",
   "version": "3.10.12"
  }
 },
 "nbformat": 4,
 "nbformat_minor": 5
}
